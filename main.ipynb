{
 "cells": [
  {
   "cell_type": "code",
   "execution_count": 46,
   "metadata": {},
   "outputs": [],
   "source": [
    "import numpy as np\n",
    "import pandas as pd"
   ]
  },
  {
   "cell_type": "code",
   "execution_count": 47,
   "metadata": {},
   "outputs": [
    {
     "data": {
      "text/html": [
       "<div>\n",
       "<style scoped>\n",
       "    .dataframe tbody tr th:only-of-type {\n",
       "        vertical-align: middle;\n",
       "    }\n",
       "\n",
       "    .dataframe tbody tr th {\n",
       "        vertical-align: top;\n",
       "    }\n",
       "\n",
       "    .dataframe thead th {\n",
       "        text-align: right;\n",
       "    }\n",
       "</style>\n",
       "<table border=\"1\" class=\"dataframe\">\n",
       "  <thead>\n",
       "    <tr style=\"text-align: right;\">\n",
       "      <th></th>\n",
       "      <th>Unnamed: 0</th>\n",
       "      <th>isbn</th>\n",
       "      <th>title</th>\n",
       "      <th>series_title</th>\n",
       "      <th>series_release_number</th>\n",
       "      <th>authors</th>\n",
       "      <th>publisher</th>\n",
       "      <th>language</th>\n",
       "      <th>description</th>\n",
       "      <th>num_pages</th>\n",
       "      <th>format</th>\n",
       "      <th>genres</th>\n",
       "      <th>publication_date</th>\n",
       "      <th>rating_score</th>\n",
       "      <th>num_ratings</th>\n",
       "      <th>num_reviews</th>\n",
       "      <th>current_readers</th>\n",
       "      <th>want_to_read</th>\n",
       "      <th>price</th>\n",
       "      <th>url</th>\n",
       "    </tr>\n",
       "  </thead>\n",
       "  <tbody>\n",
       "    <tr>\n",
       "      <th>0</th>\n",
       "      <td>0</td>\n",
       "      <td>9780689830594</td>\n",
       "      <td>Summer Story</td>\n",
       "      <td>Brambly Hedge</td>\n",
       "      <td>2</td>\n",
       "      <td>Jill Barklem</td>\n",
       "      <td>Atheneum</td>\n",
       "      <td>English</td>\n",
       "      <td>It was such a hot summer. The sky was deep blu...</td>\n",
       "      <td>32</td>\n",
       "      <td>Hardcover</td>\n",
       "      <td>['Picture Books', 'Childrens', 'Fiction', 'Ani...</td>\n",
       "      <td>January 1, 1980</td>\n",
       "      <td>4.45</td>\n",
       "      <td>1017.0</td>\n",
       "      <td>74.0</td>\n",
       "      <td>7.0</td>\n",
       "      <td>512.0</td>\n",
       "      <td>3.49</td>\n",
       "      <td>https://www.goodreads.com/book/show/421572.Sum...</td>\n",
       "    </tr>\n",
       "    <tr>\n",
       "      <th>1</th>\n",
       "      <td>1</td>\n",
       "      <td>9780375704970</td>\n",
       "      <td>The Lake of Darkness</td>\n",
       "      <td>NaN</td>\n",
       "      <td>NaN</td>\n",
       "      <td>Ruth Rendell</td>\n",
       "      <td>Vintage Crime/Black Lizard</td>\n",
       "      <td>English</td>\n",
       "      <td>Martin Urban is a quiet bachelor with a comfor...</td>\n",
       "      <td>210</td>\n",
       "      <td>Paperback</td>\n",
       "      <td>['Mystery', 'Fiction', 'Crime', 'Thriller', 'B...</td>\n",
       "      <td>January 1, 1980</td>\n",
       "      <td>3.76</td>\n",
       "      <td>1388.0</td>\n",
       "      <td>114.0</td>\n",
       "      <td>77.0</td>\n",
       "      <td>623.0</td>\n",
       "      <td>4.99</td>\n",
       "      <td>https://www.goodreads.com/book/show/83394.The_...</td>\n",
       "    </tr>\n",
       "    <tr>\n",
       "      <th>2</th>\n",
       "      <td>2</td>\n",
       "      <td>9780345446671</td>\n",
       "      <td>Beyond the Blue Event Horizon</td>\n",
       "      <td>Heechee Saga</td>\n",
       "      <td>2</td>\n",
       "      <td>Frederik Pohl</td>\n",
       "      <td>Ballantine Books</td>\n",
       "      <td>English</td>\n",
       "      <td>In Book Two of the Heechee Saga, Robinette Bro...</td>\n",
       "      <td>336</td>\n",
       "      <td>Paperback</td>\n",
       "      <td>['Science Fiction', 'Fiction', 'Space Opera', ...</td>\n",
       "      <td>January 1, 1980</td>\n",
       "      <td>3.95</td>\n",
       "      <td>13307.0</td>\n",
       "      <td>339.0</td>\n",
       "      <td>181.0</td>\n",
       "      <td>3961.0</td>\n",
       "      <td>11.99</td>\n",
       "      <td>https://www.goodreads.com/book/show/373399.Bey...</td>\n",
       "    </tr>\n",
       "    <tr>\n",
       "      <th>3</th>\n",
       "      <td>3</td>\n",
       "      <td>9780446403016</td>\n",
       "      <td>St. Peter's Fair</td>\n",
       "      <td>Chronicles of Brother Cadfael</td>\n",
       "      <td>4</td>\n",
       "      <td>Ellis Peters</td>\n",
       "      <td>Mysterious Press</td>\n",
       "      <td>English</td>\n",
       "      <td>A pause in the civil war offers Shrewsbury's t...</td>\n",
       "      <td>217</td>\n",
       "      <td>Mass Market Paperback</td>\n",
       "      <td>['Mystery', 'Historical Fiction', 'Fiction', '...</td>\n",
       "      <td>May 1, 1981</td>\n",
       "      <td>4.12</td>\n",
       "      <td>10493.0</td>\n",
       "      <td>593.0</td>\n",
       "      <td>1298.0</td>\n",
       "      <td>2502.0</td>\n",
       "      <td>0.00</td>\n",
       "      <td>https://www.goodreads.com/book/show/751755.St_...</td>\n",
       "    </tr>\n",
       "    <tr>\n",
       "      <th>4</th>\n",
       "      <td>4</td>\n",
       "      <td>9780425198773</td>\n",
       "      <td>Twice Shy</td>\n",
       "      <td>NaN</td>\n",
       "      <td>NaN</td>\n",
       "      <td>Dick Francis</td>\n",
       "      <td>G.P. Putnam's Sons</td>\n",
       "      <td>English</td>\n",
       "      <td>A computerized horse-betting system falls into...</td>\n",
       "      <td>304</td>\n",
       "      <td>Mass Market Paperback</td>\n",
       "      <td>['Mystery', 'Fiction', 'Thriller', 'Crime', 'S...</td>\n",
       "      <td>January 1, 1981</td>\n",
       "      <td>3.92</td>\n",
       "      <td>4188.0</td>\n",
       "      <td>174.0</td>\n",
       "      <td>162.0</td>\n",
       "      <td>642.0</td>\n",
       "      <td>8.99</td>\n",
       "      <td>https://www.goodreads.com/book/show/103250.Twi...</td>\n",
       "    </tr>\n",
       "    <tr>\n",
       "      <th>...</th>\n",
       "      <td>...</td>\n",
       "      <td>...</td>\n",
       "      <td>...</td>\n",
       "      <td>...</td>\n",
       "      <td>...</td>\n",
       "      <td>...</td>\n",
       "      <td>...</td>\n",
       "      <td>...</td>\n",
       "      <td>...</td>\n",
       "      <td>...</td>\n",
       "      <td>...</td>\n",
       "      <td>...</td>\n",
       "      <td>...</td>\n",
       "      <td>...</td>\n",
       "      <td>...</td>\n",
       "      <td>...</td>\n",
       "      <td>...</td>\n",
       "      <td>...</td>\n",
       "      <td>...</td>\n",
       "      <td>...</td>\n",
       "    </tr>\n",
       "    <tr>\n",
       "      <th>4395</th>\n",
       "      <td>4395</td>\n",
       "      <td>9781451648218</td>\n",
       "      <td>Murder Your Employer: The McMasters Guide to H...</td>\n",
       "      <td>NaN</td>\n",
       "      <td>NaN</td>\n",
       "      <td>Rupert Holmes</td>\n",
       "      <td>Avid Reader Press / Simon &amp; Schuster</td>\n",
       "      <td>English</td>\n",
       "      <td>A devilish thriller with a killer concept: The...</td>\n",
       "      <td>389</td>\n",
       "      <td>Hardcover</td>\n",
       "      <td>['Mystery', 'Fiction', 'Thriller', 'Mystery Th...</td>\n",
       "      <td>February 21, 2023</td>\n",
       "      <td>3.89</td>\n",
       "      <td>20992.0</td>\n",
       "      <td>3479.0</td>\n",
       "      <td>4033.0</td>\n",
       "      <td>84900.0</td>\n",
       "      <td>12.99</td>\n",
       "      <td>https://www.goodreads.com/book/show/61272658-m...</td>\n",
       "    </tr>\n",
       "    <tr>\n",
       "      <th>4396</th>\n",
       "      <td>4396</td>\n",
       "      <td>9781250826978</td>\n",
       "      <td>System Collapse</td>\n",
       "      <td>The Murderbot Diaries</td>\n",
       "      <td>7</td>\n",
       "      <td>Martha Wells</td>\n",
       "      <td>Tor Publishing Group/Tordotcom</td>\n",
       "      <td>English</td>\n",
       "      <td>Everyone's favorite lethal SecUnit is back.\\nF...</td>\n",
       "      <td>245</td>\n",
       "      <td>Hardcover</td>\n",
       "      <td>['Science Fiction', 'Fiction', 'Audiobook', 'A...</td>\n",
       "      <td>November 13, 2023</td>\n",
       "      <td>4.24</td>\n",
       "      <td>26566.0</td>\n",
       "      <td>3479.0</td>\n",
       "      <td>3609.0</td>\n",
       "      <td>36600.0</td>\n",
       "      <td>11.99</td>\n",
       "      <td>https://www.goodreads.com/book/show/65211701-s...</td>\n",
       "    </tr>\n",
       "    <tr>\n",
       "      <th>4397</th>\n",
       "      <td>4397</td>\n",
       "      <td>9781496737298</td>\n",
       "      <td>Georgie, All Along</td>\n",
       "      <td>NaN</td>\n",
       "      <td>NaN</td>\n",
       "      <td>Kate Clayborn</td>\n",
       "      <td>Kensington</td>\n",
       "      <td>English</td>\n",
       "      <td>A wise and witty new novel that echoes with ti...</td>\n",
       "      <td>340</td>\n",
       "      <td>Paperback</td>\n",
       "      <td>['Romance', 'Fiction', 'Contemporary', 'Contem...</td>\n",
       "      <td>January 24, 2023</td>\n",
       "      <td>3.82</td>\n",
       "      <td>48031.0</td>\n",
       "      <td>6590.0</td>\n",
       "      <td>3180.0</td>\n",
       "      <td>76300.0</td>\n",
       "      <td>0.00</td>\n",
       "      <td>https://www.goodreads.com/book/show/60604190-g...</td>\n",
       "    </tr>\n",
       "    <tr>\n",
       "      <th>4398</th>\n",
       "      <td>4398</td>\n",
       "      <td>9780525619994</td>\n",
       "      <td>Sword Catcher</td>\n",
       "      <td>Sword Catcher</td>\n",
       "      <td>1</td>\n",
       "      <td>Cassandra Clare</td>\n",
       "      <td>Del Rey Books</td>\n",
       "      <td>English</td>\n",
       "      <td>In the vibrant city-state of Castellane, the r...</td>\n",
       "      <td>624</td>\n",
       "      <td>Hardcover</td>\n",
       "      <td>['Fantasy', 'Romance', 'Adult', 'Young Adult',...</td>\n",
       "      <td>October 10, 2023</td>\n",
       "      <td>3.84</td>\n",
       "      <td>14991.0</td>\n",
       "      <td>3523.0</td>\n",
       "      <td>4485.0</td>\n",
       "      <td>149000.0</td>\n",
       "      <td>14.99</td>\n",
       "      <td>https://www.goodreads.com/book/show/36679274-s...</td>\n",
       "    </tr>\n",
       "    <tr>\n",
       "      <th>4399</th>\n",
       "      <td>4399</td>\n",
       "      <td>9780593239919</td>\n",
       "      <td>Poverty, by America</td>\n",
       "      <td>NaN</td>\n",
       "      <td>NaN</td>\n",
       "      <td>Matthew Desmond</td>\n",
       "      <td>Crown</td>\n",
       "      <td>English</td>\n",
       "      <td>The Pulitzer Prize–winning, bestselling author...</td>\n",
       "      <td>284</td>\n",
       "      <td>Hardcover</td>\n",
       "      <td>['Nonfiction', 'Politics', 'Sociology', 'Histo...</td>\n",
       "      <td>March 21, 2023</td>\n",
       "      <td>4.30</td>\n",
       "      <td>28248.0</td>\n",
       "      <td>4007.0</td>\n",
       "      <td>6021.0</td>\n",
       "      <td>133000.0</td>\n",
       "      <td>13.99</td>\n",
       "      <td>https://www.goodreads.com/book/show/61358638-p...</td>\n",
       "    </tr>\n",
       "  </tbody>\n",
       "</table>\n",
       "<p>4400 rows × 20 columns</p>\n",
       "</div>"
      ],
      "text/plain": [
       "      Unnamed: 0           isbn  \\\n",
       "0              0  9780689830594   \n",
       "1              1  9780375704970   \n",
       "2              2  9780345446671   \n",
       "3              3  9780446403016   \n",
       "4              4  9780425198773   \n",
       "...          ...            ...   \n",
       "4395        4395  9781451648218   \n",
       "4396        4396  9781250826978   \n",
       "4397        4397  9781496737298   \n",
       "4398        4398  9780525619994   \n",
       "4399        4399  9780593239919   \n",
       "\n",
       "                                                  title  \\\n",
       "0                                         Summer Story    \n",
       "1                                  The Lake of Darkness   \n",
       "2                        Beyond the Blue Event Horizon    \n",
       "3                                     St. Peter's Fair    \n",
       "4                                             Twice Shy   \n",
       "...                                                 ...   \n",
       "4395  Murder Your Employer: The McMasters Guide to H...   \n",
       "4396                                   System Collapse    \n",
       "4397                                 Georgie, All Along   \n",
       "4398                                     Sword Catcher    \n",
       "4399                                Poverty, by America   \n",
       "\n",
       "                       series_title series_release_number          authors  \\\n",
       "0                     Brambly Hedge                     2     Jill Barklem   \n",
       "1                               NaN                   NaN     Ruth Rendell   \n",
       "2                      Heechee Saga                     2    Frederik Pohl   \n",
       "3     Chronicles of Brother Cadfael                     4     Ellis Peters   \n",
       "4                               NaN                   NaN     Dick Francis   \n",
       "...                             ...                   ...              ...   \n",
       "4395                            NaN                   NaN    Rupert Holmes   \n",
       "4396          The Murderbot Diaries                     7     Martha Wells   \n",
       "4397                            NaN                   NaN    Kate Clayborn   \n",
       "4398                  Sword Catcher                     1  Cassandra Clare   \n",
       "4399                            NaN                   NaN  Matthew Desmond   \n",
       "\n",
       "                                 publisher language  \\\n",
       "0                                 Atheneum  English   \n",
       "1               Vintage Crime/Black Lizard  English   \n",
       "2                         Ballantine Books  English   \n",
       "3                         Mysterious Press  English   \n",
       "4                       G.P. Putnam's Sons  English   \n",
       "...                                    ...      ...   \n",
       "4395  Avid Reader Press / Simon & Schuster  English   \n",
       "4396        Tor Publishing Group/Tordotcom  English   \n",
       "4397                            Kensington  English   \n",
       "4398                         Del Rey Books  English   \n",
       "4399                                 Crown  English   \n",
       "\n",
       "                                            description num_pages  \\\n",
       "0     It was such a hot summer. The sky was deep blu...        32   \n",
       "1     Martin Urban is a quiet bachelor with a comfor...       210   \n",
       "2     In Book Two of the Heechee Saga, Robinette Bro...       336   \n",
       "3     A pause in the civil war offers Shrewsbury's t...       217   \n",
       "4     A computerized horse-betting system falls into...       304   \n",
       "...                                                 ...       ...   \n",
       "4395  A devilish thriller with a killer concept: The...       389   \n",
       "4396  Everyone's favorite lethal SecUnit is back.\\nF...       245   \n",
       "4397  A wise and witty new novel that echoes with ti...       340   \n",
       "4398  In the vibrant city-state of Castellane, the r...       624   \n",
       "4399  The Pulitzer Prize–winning, bestselling author...       284   \n",
       "\n",
       "                     format  \\\n",
       "0                 Hardcover   \n",
       "1                 Paperback   \n",
       "2                 Paperback   \n",
       "3     Mass Market Paperback   \n",
       "4     Mass Market Paperback   \n",
       "...                     ...   \n",
       "4395              Hardcover   \n",
       "4396              Hardcover   \n",
       "4397              Paperback   \n",
       "4398              Hardcover   \n",
       "4399              Hardcover   \n",
       "\n",
       "                                                 genres   publication_date  \\\n",
       "0     ['Picture Books', 'Childrens', 'Fiction', 'Ani...    January 1, 1980   \n",
       "1     ['Mystery', 'Fiction', 'Crime', 'Thriller', 'B...    January 1, 1980   \n",
       "2     ['Science Fiction', 'Fiction', 'Space Opera', ...    January 1, 1980   \n",
       "3     ['Mystery', 'Historical Fiction', 'Fiction', '...        May 1, 1981   \n",
       "4     ['Mystery', 'Fiction', 'Thriller', 'Crime', 'S...    January 1, 1981   \n",
       "...                                                 ...                ...   \n",
       "4395  ['Mystery', 'Fiction', 'Thriller', 'Mystery Th...  February 21, 2023   \n",
       "4396  ['Science Fiction', 'Fiction', 'Audiobook', 'A...  November 13, 2023   \n",
       "4397  ['Romance', 'Fiction', 'Contemporary', 'Contem...   January 24, 2023   \n",
       "4398  ['Fantasy', 'Romance', 'Adult', 'Young Adult',...   October 10, 2023   \n",
       "4399  ['Nonfiction', 'Politics', 'Sociology', 'Histo...     March 21, 2023   \n",
       "\n",
       "      rating_score  num_ratings  num_reviews  current_readers  want_to_read  \\\n",
       "0             4.45       1017.0         74.0              7.0         512.0   \n",
       "1             3.76       1388.0        114.0             77.0         623.0   \n",
       "2             3.95      13307.0        339.0            181.0        3961.0   \n",
       "3             4.12      10493.0        593.0           1298.0        2502.0   \n",
       "4             3.92       4188.0        174.0            162.0         642.0   \n",
       "...            ...          ...          ...              ...           ...   \n",
       "4395          3.89      20992.0       3479.0           4033.0       84900.0   \n",
       "4396          4.24      26566.0       3479.0           3609.0       36600.0   \n",
       "4397          3.82      48031.0       6590.0           3180.0       76300.0   \n",
       "4398          3.84      14991.0       3523.0           4485.0      149000.0   \n",
       "4399          4.30      28248.0       4007.0           6021.0      133000.0   \n",
       "\n",
       "      price                                                url  \n",
       "0      3.49  https://www.goodreads.com/book/show/421572.Sum...  \n",
       "1      4.99  https://www.goodreads.com/book/show/83394.The_...  \n",
       "2     11.99  https://www.goodreads.com/book/show/373399.Bey...  \n",
       "3      0.00  https://www.goodreads.com/book/show/751755.St_...  \n",
       "4      8.99  https://www.goodreads.com/book/show/103250.Twi...  \n",
       "...     ...                                                ...  \n",
       "4395  12.99  https://www.goodreads.com/book/show/61272658-m...  \n",
       "4396  11.99  https://www.goodreads.com/book/show/65211701-s...  \n",
       "4397   0.00  https://www.goodreads.com/book/show/60604190-g...  \n",
       "4398  14.99  https://www.goodreads.com/book/show/36679274-s...  \n",
       "4399  13.99  https://www.goodreads.com/book/show/61358638-p...  \n",
       "\n",
       "[4400 rows x 20 columns]"
      ]
     },
     "execution_count": 47,
     "metadata": {},
     "output_type": "execute_result"
    }
   ],
   "source": [
    "df = pd.read_csv(\"goodreads_top100_from1980to2023_final.csv\")\n",
    "df"
   ]
  },
  {
   "cell_type": "code",
   "execution_count": 48,
   "metadata": {},
   "outputs": [
    {
     "data": {
      "text/plain": [
       "Unnamed: 0                  0\n",
       "isbn                      594\n",
       "title                       0\n",
       "series_title             2132\n",
       "series_release_number    2144\n",
       "authors                     0\n",
       "publisher                 116\n",
       "language                   26\n",
       "description                 2\n",
       "num_pages                  21\n",
       "format                     35\n",
       "genres                      0\n",
       "publication_date            1\n",
       "rating_score                0\n",
       "num_ratings                 0\n",
       "num_reviews                 0\n",
       "current_readers           104\n",
       "want_to_read               39\n",
       "price                     233\n",
       "url                         0\n",
       "dtype: int64"
      ]
     },
     "execution_count": 48,
     "metadata": {},
     "output_type": "execute_result"
    }
   ],
   "source": [
    "df.isnull().sum()"
   ]
  },
  {
   "cell_type": "code",
   "execution_count": 49,
   "metadata": {},
   "outputs": [
    {
     "data": {
      "text/plain": [
       "language\n",
       "English               4337\n",
       "French                  14\n",
       "Spanish; Castilian      10\n",
       "German                   7\n",
       "Japanese                 2\n",
       "Dutch; Flemish           2\n",
       "Danish                   1\n",
       "Portuguese               1\n",
       "Name: count, dtype: int64"
      ]
     },
     "execution_count": 49,
     "metadata": {},
     "output_type": "execute_result"
    }
   ],
   "source": [
    "df['language'].value_counts()"
   ]
  },
  {
   "cell_type": "code",
   "execution_count": 50,
   "metadata": {},
   "outputs": [],
   "source": [
    "df = df[['title','authors','publisher','description','genres']]"
   ]
  },
  {
   "cell_type": "code",
   "execution_count": 51,
   "metadata": {},
   "outputs": [
    {
     "name": "stderr",
     "output_type": "stream",
     "text": [
      "C:\\Users\\Devve\\AppData\\Local\\Temp\\ipykernel_13660\\1379821321.py:1: SettingWithCopyWarning: \n",
      "A value is trying to be set on a copy of a slice from a DataFrame\n",
      "\n",
      "See the caveats in the documentation: https://pandas.pydata.org/pandas-docs/stable/user_guide/indexing.html#returning-a-view-versus-a-copy\n",
      "  df.dropna(inplace=True)\n"
     ]
    }
   ],
   "source": [
    "df.dropna(inplace=True)"
   ]
  },
  {
   "cell_type": "code",
   "execution_count": 52,
   "metadata": {},
   "outputs": [
    {
     "name": "stdout",
     "output_type": "stream",
     "text": [
      "<class 'pandas.core.frame.DataFrame'>\n",
      "Index: 4282 entries, 0 to 4399\n",
      "Data columns (total 5 columns):\n",
      " #   Column       Non-Null Count  Dtype \n",
      "---  ------       --------------  ----- \n",
      " 0   title        4282 non-null   object\n",
      " 1   authors      4282 non-null   object\n",
      " 2   publisher    4282 non-null   object\n",
      " 3   description  4282 non-null   object\n",
      " 4   genres       4282 non-null   object\n",
      "dtypes: object(5)\n",
      "memory usage: 200.7+ KB\n"
     ]
    }
   ],
   "source": [
    "df.info()"
   ]
  },
  {
   "cell_type": "code",
   "execution_count": 53,
   "metadata": {},
   "outputs": [
    {
     "data": {
      "text/html": [
       "<div>\n",
       "<style scoped>\n",
       "    .dataframe tbody tr th:only-of-type {\n",
       "        vertical-align: middle;\n",
       "    }\n",
       "\n",
       "    .dataframe tbody tr th {\n",
       "        vertical-align: top;\n",
       "    }\n",
       "\n",
       "    .dataframe thead th {\n",
       "        text-align: right;\n",
       "    }\n",
       "</style>\n",
       "<table border=\"1\" class=\"dataframe\">\n",
       "  <thead>\n",
       "    <tr style=\"text-align: right;\">\n",
       "      <th></th>\n",
       "      <th>title</th>\n",
       "      <th>authors</th>\n",
       "      <th>publisher</th>\n",
       "      <th>description</th>\n",
       "      <th>genres</th>\n",
       "    </tr>\n",
       "  </thead>\n",
       "  <tbody>\n",
       "    <tr>\n",
       "      <th>0</th>\n",
       "      <td>Summer Story</td>\n",
       "      <td>Jill Barklem</td>\n",
       "      <td>Atheneum</td>\n",
       "      <td>It was such a hot summer. The sky was deep blu...</td>\n",
       "      <td>['Picture Books', 'Childrens', 'Fiction', 'Ani...</td>\n",
       "    </tr>\n",
       "    <tr>\n",
       "      <th>1</th>\n",
       "      <td>The Lake of Darkness</td>\n",
       "      <td>Ruth Rendell</td>\n",
       "      <td>Vintage Crime/Black Lizard</td>\n",
       "      <td>Martin Urban is a quiet bachelor with a comfor...</td>\n",
       "      <td>['Mystery', 'Fiction', 'Crime', 'Thriller', 'B...</td>\n",
       "    </tr>\n",
       "    <tr>\n",
       "      <th>2</th>\n",
       "      <td>Beyond the Blue Event Horizon</td>\n",
       "      <td>Frederik Pohl</td>\n",
       "      <td>Ballantine Books</td>\n",
       "      <td>In Book Two of the Heechee Saga, Robinette Bro...</td>\n",
       "      <td>['Science Fiction', 'Fiction', 'Space Opera', ...</td>\n",
       "    </tr>\n",
       "    <tr>\n",
       "      <th>3</th>\n",
       "      <td>St. Peter's Fair</td>\n",
       "      <td>Ellis Peters</td>\n",
       "      <td>Mysterious Press</td>\n",
       "      <td>A pause in the civil war offers Shrewsbury's t...</td>\n",
       "      <td>['Mystery', 'Historical Fiction', 'Fiction', '...</td>\n",
       "    </tr>\n",
       "    <tr>\n",
       "      <th>4</th>\n",
       "      <td>Twice Shy</td>\n",
       "      <td>Dick Francis</td>\n",
       "      <td>G.P. Putnam's Sons</td>\n",
       "      <td>A computerized horse-betting system falls into...</td>\n",
       "      <td>['Mystery', 'Fiction', 'Thriller', 'Crime', 'S...</td>\n",
       "    </tr>\n",
       "  </tbody>\n",
       "</table>\n",
       "</div>"
      ],
      "text/plain": [
       "                            title        authors                   publisher  \\\n",
       "0                   Summer Story    Jill Barklem                    Atheneum   \n",
       "1            The Lake of Darkness   Ruth Rendell  Vintage Crime/Black Lizard   \n",
       "2  Beyond the Blue Event Horizon   Frederik Pohl            Ballantine Books   \n",
       "3               St. Peter's Fair    Ellis Peters            Mysterious Press   \n",
       "4                       Twice Shy   Dick Francis          G.P. Putnam's Sons   \n",
       "\n",
       "                                         description  \\\n",
       "0  It was such a hot summer. The sky was deep blu...   \n",
       "1  Martin Urban is a quiet bachelor with a comfor...   \n",
       "2  In Book Two of the Heechee Saga, Robinette Bro...   \n",
       "3  A pause in the civil war offers Shrewsbury's t...   \n",
       "4  A computerized horse-betting system falls into...   \n",
       "\n",
       "                                              genres  \n",
       "0  ['Picture Books', 'Childrens', 'Fiction', 'Ani...  \n",
       "1  ['Mystery', 'Fiction', 'Crime', 'Thriller', 'B...  \n",
       "2  ['Science Fiction', 'Fiction', 'Space Opera', ...  \n",
       "3  ['Mystery', 'Historical Fiction', 'Fiction', '...  \n",
       "4  ['Mystery', 'Fiction', 'Thriller', 'Crime', 'S...  "
      ]
     },
     "execution_count": 53,
     "metadata": {},
     "output_type": "execute_result"
    }
   ],
   "source": [
    "df.head()"
   ]
  },
  {
   "cell_type": "code",
   "execution_count": 54,
   "metadata": {},
   "outputs": [],
   "source": [
    "def cleanGenres(object):\n",
    "    word_list = []\n",
    "    word = []\n",
    "    for i in object:\n",
    "        if i == \"[\" or i == \"]\" or i == \" \":\n",
    "            continue\n",
    "        if i ==\",\":\n",
    "            word_list.append(\"\".join(word))\n",
    "            word = []\n",
    "            continue\n",
    "        word.append(i)\n",
    "    return word_list"
   ]
  },
  {
   "cell_type": "code",
   "execution_count": 55,
   "metadata": {},
   "outputs": [
    {
     "data": {
      "text/plain": [
       "title          object\n",
       "authors        object\n",
       "publisher      object\n",
       "description    object\n",
       "genres         object\n",
       "dtype: object"
      ]
     },
     "execution_count": 55,
     "metadata": {},
     "output_type": "execute_result"
    }
   ],
   "source": [
    "df.dtypes"
   ]
  },
  {
   "cell_type": "code",
   "execution_count": 56,
   "metadata": {},
   "outputs": [
    {
     "name": "stderr",
     "output_type": "stream",
     "text": [
      "C:\\Users\\Devve\\AppData\\Local\\Temp\\ipykernel_13660\\459577602.py:1: SettingWithCopyWarning: \n",
      "A value is trying to be set on a copy of a slice from a DataFrame.\n",
      "Try using .loc[row_indexer,col_indexer] = value instead\n",
      "\n",
      "See the caveats in the documentation: https://pandas.pydata.org/pandas-docs/stable/user_guide/indexing.html#returning-a-view-versus-a-copy\n",
      "  df['genres'] = df['genres'].apply(cleanGenres)\n"
     ]
    }
   ],
   "source": [
    "df['genres'] = df['genres'].apply(cleanGenres)"
   ]
  },
  {
   "cell_type": "code",
   "execution_count": 57,
   "metadata": {},
   "outputs": [],
   "source": [
    "def cleanWord(word):\n",
    "    W = []\n",
    "    for i in word:\n",
    "        if i == \" \" or i == \"-\" or i == \"'\" or i == \",\" or i == \".\":\n",
    "            continue\n",
    "        W.append(i)\n",
    "    return \"\".join(W)"
   ]
  },
  {
   "cell_type": "code",
   "execution_count": 58,
   "metadata": {},
   "outputs": [
    {
     "name": "stderr",
     "output_type": "stream",
     "text": [
      "C:\\Users\\Devve\\AppData\\Local\\Temp\\ipykernel_13660\\2310698377.py:1: SettingWithCopyWarning: \n",
      "A value is trying to be set on a copy of a slice from a DataFrame.\n",
      "Try using .loc[row_indexer,col_indexer] = value instead\n",
      "\n",
      "See the caveats in the documentation: https://pandas.pydata.org/pandas-docs/stable/user_guide/indexing.html#returning-a-view-versus-a-copy\n",
      "  df['description'] = df['description'].apply(lambda x:[cleanWord(i) for i in x.split()])\n"
     ]
    }
   ],
   "source": [
    "df['description'] = df['description'].apply(lambda x:[cleanWord(i) for i in x.split()])"
   ]
  },
  {
   "cell_type": "code",
   "execution_count": 59,
   "metadata": {},
   "outputs": [],
   "source": [
    "def cleanValues(value):\n",
    "    word_list = []\n",
    "    word = []\n",
    "    for i in value:\n",
    "        if i == \"'\" or i == \".\" or i == \" \":\n",
    "            continue\n",
    "        if i == \"/\":\n",
    "            word_list.append(\"\".join(word))\n",
    "            word = []\n",
    "            continue\n",
    "        word.append(i)\n",
    "    word_list.append(\"\".join(word))\n",
    "    return word_list"
   ]
  },
  {
   "cell_type": "code",
   "execution_count": 60,
   "metadata": {},
   "outputs": [
    {
     "name": "stderr",
     "output_type": "stream",
     "text": [
      "C:\\Users\\Devve\\AppData\\Local\\Temp\\ipykernel_13660\\1189147787.py:1: SettingWithCopyWarning: \n",
      "A value is trying to be set on a copy of a slice from a DataFrame.\n",
      "Try using .loc[row_indexer,col_indexer] = value instead\n",
      "\n",
      "See the caveats in the documentation: https://pandas.pydata.org/pandas-docs/stable/user_guide/indexing.html#returning-a-view-versus-a-copy\n",
      "  df['publisher'] = df['publisher'].apply(cleanValues)\n"
     ]
    }
   ],
   "source": [
    "df['publisher'] = df['publisher'].apply(cleanValues)"
   ]
  },
  {
   "cell_type": "code",
   "execution_count": 61,
   "metadata": {},
   "outputs": [
    {
     "name": "stderr",
     "output_type": "stream",
     "text": [
      "C:\\Users\\Devve\\AppData\\Local\\Temp\\ipykernel_13660\\1343505194.py:1: SettingWithCopyWarning: \n",
      "A value is trying to be set on a copy of a slice from a DataFrame.\n",
      "Try using .loc[row_indexer,col_indexer] = value instead\n",
      "\n",
      "See the caveats in the documentation: https://pandas.pydata.org/pandas-docs/stable/user_guide/indexing.html#returning-a-view-versus-a-copy\n",
      "  df['authors'] = df['authors'].apply(cleanValues)\n"
     ]
    }
   ],
   "source": [
    "df['authors'] = df['authors'].apply(cleanValues)"
   ]
  },
  {
   "cell_type": "code",
   "execution_count": 62,
   "metadata": {},
   "outputs": [
    {
     "data": {
      "text/html": [
       "<div>\n",
       "<style scoped>\n",
       "    .dataframe tbody tr th:only-of-type {\n",
       "        vertical-align: middle;\n",
       "    }\n",
       "\n",
       "    .dataframe tbody tr th {\n",
       "        vertical-align: top;\n",
       "    }\n",
       "\n",
       "    .dataframe thead th {\n",
       "        text-align: right;\n",
       "    }\n",
       "</style>\n",
       "<table border=\"1\" class=\"dataframe\">\n",
       "  <thead>\n",
       "    <tr style=\"text-align: right;\">\n",
       "      <th></th>\n",
       "      <th>title</th>\n",
       "      <th>authors</th>\n",
       "      <th>publisher</th>\n",
       "      <th>description</th>\n",
       "      <th>genres</th>\n",
       "    </tr>\n",
       "  </thead>\n",
       "  <tbody>\n",
       "    <tr>\n",
       "      <th>0</th>\n",
       "      <td>Summer Story</td>\n",
       "      <td>[JillBarklem]</td>\n",
       "      <td>[Atheneum]</td>\n",
       "      <td>[It, was, such, a, hot, summer, The, sky, was,...</td>\n",
       "      <td>['PictureBooks', 'Childrens', 'Fiction', 'Anim...</td>\n",
       "    </tr>\n",
       "    <tr>\n",
       "      <th>1</th>\n",
       "      <td>The Lake of Darkness</td>\n",
       "      <td>[RuthRendell]</td>\n",
       "      <td>[VintageCrime, BlackLizard]</td>\n",
       "      <td>[Martin, Urban, is, a, quiet, bachelor, with, ...</td>\n",
       "      <td>['Mystery', 'Fiction', 'Crime', 'Thriller', 'B...</td>\n",
       "    </tr>\n",
       "    <tr>\n",
       "      <th>2</th>\n",
       "      <td>Beyond the Blue Event Horizon</td>\n",
       "      <td>[FrederikPohl]</td>\n",
       "      <td>[BallantineBooks]</td>\n",
       "      <td>[In, Book, Two, of, the, Heechee, Saga, Robine...</td>\n",
       "      <td>['ScienceFiction', 'Fiction', 'SpaceOpera', 'S...</td>\n",
       "    </tr>\n",
       "    <tr>\n",
       "      <th>3</th>\n",
       "      <td>St. Peter's Fair</td>\n",
       "      <td>[EllisPeters]</td>\n",
       "      <td>[MysteriousPress]</td>\n",
       "      <td>[A, pause, in, the, civil, war, offers, Shrews...</td>\n",
       "      <td>['Mystery', 'HistoricalFiction', 'Fiction', 'H...</td>\n",
       "    </tr>\n",
       "    <tr>\n",
       "      <th>4</th>\n",
       "      <td>Twice Shy</td>\n",
       "      <td>[DickFrancis]</td>\n",
       "      <td>[GPPutnamsSons]</td>\n",
       "      <td>[A, computerized, horsebetting, system, falls,...</td>\n",
       "      <td>['Mystery', 'Fiction', 'Thriller', 'Crime', 'S...</td>\n",
       "    </tr>\n",
       "  </tbody>\n",
       "</table>\n",
       "</div>"
      ],
      "text/plain": [
       "                            title         authors  \\\n",
       "0                   Summer Story    [JillBarklem]   \n",
       "1            The Lake of Darkness   [RuthRendell]   \n",
       "2  Beyond the Blue Event Horizon   [FrederikPohl]   \n",
       "3               St. Peter's Fair    [EllisPeters]   \n",
       "4                       Twice Shy   [DickFrancis]   \n",
       "\n",
       "                     publisher  \\\n",
       "0                   [Atheneum]   \n",
       "1  [VintageCrime, BlackLizard]   \n",
       "2            [BallantineBooks]   \n",
       "3            [MysteriousPress]   \n",
       "4              [GPPutnamsSons]   \n",
       "\n",
       "                                         description  \\\n",
       "0  [It, was, such, a, hot, summer, The, sky, was,...   \n",
       "1  [Martin, Urban, is, a, quiet, bachelor, with, ...   \n",
       "2  [In, Book, Two, of, the, Heechee, Saga, Robine...   \n",
       "3  [A, pause, in, the, civil, war, offers, Shrews...   \n",
       "4  [A, computerized, horsebetting, system, falls,...   \n",
       "\n",
       "                                              genres  \n",
       "0  ['PictureBooks', 'Childrens', 'Fiction', 'Anim...  \n",
       "1  ['Mystery', 'Fiction', 'Crime', 'Thriller', 'B...  \n",
       "2  ['ScienceFiction', 'Fiction', 'SpaceOpera', 'S...  \n",
       "3  ['Mystery', 'HistoricalFiction', 'Fiction', 'H...  \n",
       "4  ['Mystery', 'Fiction', 'Thriller', 'Crime', 'S...  "
      ]
     },
     "execution_count": 62,
     "metadata": {},
     "output_type": "execute_result"
    }
   ],
   "source": [
    "df.head()"
   ]
  },
  {
   "cell_type": "code",
   "execution_count": 63,
   "metadata": {},
   "outputs": [
    {
     "name": "stderr",
     "output_type": "stream",
     "text": [
      "C:\\Users\\Devve\\AppData\\Local\\Temp\\ipykernel_13660\\3969208531.py:1: SettingWithCopyWarning: \n",
      "A value is trying to be set on a copy of a slice from a DataFrame.\n",
      "Try using .loc[row_indexer,col_indexer] = value instead\n",
      "\n",
      "See the caveats in the documentation: https://pandas.pydata.org/pandas-docs/stable/user_guide/indexing.html#returning-a-view-versus-a-copy\n",
      "  df['tags'] = df['description'] + df['genres'] + df['publisher'] + df['authors']\n"
     ]
    }
   ],
   "source": [
    "df['tags'] = df['description'] + df['genres'] + df['publisher'] + df['authors']"
   ]
  },
  {
   "cell_type": "code",
   "execution_count": 64,
   "metadata": {},
   "outputs": [
    {
     "data": {
      "text/html": [
       "<div>\n",
       "<style scoped>\n",
       "    .dataframe tbody tr th:only-of-type {\n",
       "        vertical-align: middle;\n",
       "    }\n",
       "\n",
       "    .dataframe tbody tr th {\n",
       "        vertical-align: top;\n",
       "    }\n",
       "\n",
       "    .dataframe thead th {\n",
       "        text-align: right;\n",
       "    }\n",
       "</style>\n",
       "<table border=\"1\" class=\"dataframe\">\n",
       "  <thead>\n",
       "    <tr style=\"text-align: right;\">\n",
       "      <th></th>\n",
       "      <th>title</th>\n",
       "      <th>tags</th>\n",
       "    </tr>\n",
       "  </thead>\n",
       "  <tbody>\n",
       "    <tr>\n",
       "      <th>0</th>\n",
       "      <td>Summer Story</td>\n",
       "      <td>[It, was, such, a, hot, summer, The, sky, was,...</td>\n",
       "    </tr>\n",
       "    <tr>\n",
       "      <th>1</th>\n",
       "      <td>The Lake of Darkness</td>\n",
       "      <td>[Martin, Urban, is, a, quiet, bachelor, with, ...</td>\n",
       "    </tr>\n",
       "    <tr>\n",
       "      <th>2</th>\n",
       "      <td>Beyond the Blue Event Horizon</td>\n",
       "      <td>[In, Book, Two, of, the, Heechee, Saga, Robine...</td>\n",
       "    </tr>\n",
       "    <tr>\n",
       "      <th>3</th>\n",
       "      <td>St. Peter's Fair</td>\n",
       "      <td>[A, pause, in, the, civil, war, offers, Shrews...</td>\n",
       "    </tr>\n",
       "    <tr>\n",
       "      <th>4</th>\n",
       "      <td>Twice Shy</td>\n",
       "      <td>[A, computerized, horsebetting, system, falls,...</td>\n",
       "    </tr>\n",
       "  </tbody>\n",
       "</table>\n",
       "</div>"
      ],
      "text/plain": [
       "                            title  \\\n",
       "0                   Summer Story    \n",
       "1            The Lake of Darkness   \n",
       "2  Beyond the Blue Event Horizon    \n",
       "3               St. Peter's Fair    \n",
       "4                       Twice Shy   \n",
       "\n",
       "                                                tags  \n",
       "0  [It, was, such, a, hot, summer, The, sky, was,...  \n",
       "1  [Martin, Urban, is, a, quiet, bachelor, with, ...  \n",
       "2  [In, Book, Two, of, the, Heechee, Saga, Robine...  \n",
       "3  [A, pause, in, the, civil, war, offers, Shrews...  \n",
       "4  [A, computerized, horsebetting, system, falls,...  "
      ]
     },
     "execution_count": 64,
     "metadata": {},
     "output_type": "execute_result"
    }
   ],
   "source": [
    "books = df[['title','tags']]\n",
    "books.head()"
   ]
  },
  {
   "cell_type": "code",
   "execution_count": 65,
   "metadata": {},
   "outputs": [],
   "source": [
    "from nltk.stem import SnowballStemmer\n",
    "\n",
    "stemmer = SnowballStemmer(\"english\")"
   ]
  },
  {
   "cell_type": "code",
   "execution_count": 66,
   "metadata": {},
   "outputs": [],
   "source": [
    "def stemWord(word):\n",
    "    return stemmer.stem(word.lower())"
   ]
  },
  {
   "cell_type": "code",
   "execution_count": 67,
   "metadata": {},
   "outputs": [],
   "source": [
    "books.loc[:, 'tags'] = books['tags'].apply(lambda x: [stemWord(i) for i in x])"
   ]
  },
  {
   "cell_type": "code",
   "execution_count": 68,
   "metadata": {},
   "outputs": [
    {
     "data": {
      "text/plain": [
       "0       [it, was, such, a, hot, summer, the, sky, was,...\n",
       "1       [martin, urban, is, a, quiet, bachelor, with, ...\n",
       "2       [in, book, two, of, the, heeche, saga, robinet...\n",
       "3       [a, paus, in, the, civil, war, offer, shrewsbu...\n",
       "4       [a, computer, horsebet, system, fall, into, jo...\n",
       "                              ...                        \n",
       "4395    [a, devilish, thriller, with, a, killer, conce...\n",
       "4396    [everyon, favorit, lethal, secunit, is, back, ...\n",
       "4397    [a, wise, and, witti, new, novel, that, echo, ...\n",
       "4398    [in, the, vibrant, cityst, of, castellan, the,...\n",
       "4399    [the, pulitz, prize–win, bestsel, author, of, ...\n",
       "Name: tags, Length: 4282, dtype: object"
      ]
     },
     "execution_count": 68,
     "metadata": {},
     "output_type": "execute_result"
    }
   ],
   "source": [
    "books['tags']"
   ]
  },
  {
   "cell_type": "code",
   "execution_count": 69,
   "metadata": {},
   "outputs": [
    {
     "name": "stderr",
     "output_type": "stream",
     "text": [
      "C:\\Users\\Devve\\AppData\\Local\\Temp\\ipykernel_13660\\421402556.py:1: SettingWithCopyWarning: \n",
      "A value is trying to be set on a copy of a slice from a DataFrame.\n",
      "Try using .loc[row_indexer,col_indexer] = value instead\n",
      "\n",
      "See the caveats in the documentation: https://pandas.pydata.org/pandas-docs/stable/user_guide/indexing.html#returning-a-view-versus-a-copy\n",
      "  books['tags'] = books['tags'].apply(lambda x:\" \".join(x))\n"
     ]
    }
   ],
   "source": [
    "books['tags'] = books['tags'].apply(lambda x:\" \".join(x))"
   ]
  },
  {
   "cell_type": "code",
   "execution_count": 70,
   "metadata": {},
   "outputs": [
    {
     "data": {
      "text/plain": [
       "0       it was such a hot summer the sky was deep blue...\n",
       "1       martin urban is a quiet bachelor with a comfor...\n",
       "2       in book two of the heeche saga robinett broadh...\n",
       "3       a paus in the civil war offer shrewsburi towns...\n",
       "4       a computer horsebet system fall into jonathan ...\n",
       "                              ...                        \n",
       "4395    a devilish thriller with a killer concept: the...\n",
       "4396    everyon favorit lethal secunit is back follow ...\n",
       "4397    a wise and witti new novel that echo with time...\n",
       "4398    in the vibrant cityst of castellan the richest...\n",
       "4399    the pulitz prize–win bestsel author of evict r...\n",
       "Name: tags, Length: 4282, dtype: object"
      ]
     },
     "execution_count": 70,
     "metadata": {},
     "output_type": "execute_result"
    }
   ],
   "source": [
    "books['tags']"
   ]
  },
  {
   "cell_type": "code",
   "execution_count": 71,
   "metadata": {},
   "outputs": [],
   "source": [
    "books.reset_index(inplace=True,drop=True)"
   ]
  },
  {
   "cell_type": "code",
   "execution_count": 72,
   "metadata": {},
   "outputs": [],
   "source": [
    "from sklearn.feature_extraction.text import CountVectorizer\n",
    "\n",
    "cv = CountVectorizer(max_features=5000, stop_words=\"english\")"
   ]
  },
  {
   "cell_type": "code",
   "execution_count": 73,
   "metadata": {},
   "outputs": [],
   "source": [
    "vectors = cv.fit_transform(books['tags']).toarray()"
   ]
  },
  {
   "cell_type": "code",
   "execution_count": 74,
   "metadata": {},
   "outputs": [],
   "source": [
    "from sklearn.metrics.pairwise import cosine_similarity\n",
    "\n",
    "similarities = cosine_similarity(vectors)"
   ]
  },
  {
   "cell_type": "code",
   "execution_count": 75,
   "metadata": {},
   "outputs": [
    {
     "data": {
      "text/html": [
       "<div>\n",
       "<style scoped>\n",
       "    .dataframe tbody tr th:only-of-type {\n",
       "        vertical-align: middle;\n",
       "    }\n",
       "\n",
       "    .dataframe tbody tr th {\n",
       "        vertical-align: top;\n",
       "    }\n",
       "\n",
       "    .dataframe thead th {\n",
       "        text-align: right;\n",
       "    }\n",
       "</style>\n",
       "<table border=\"1\" class=\"dataframe\">\n",
       "  <thead>\n",
       "    <tr style=\"text-align: right;\">\n",
       "      <th></th>\n",
       "      <th>title</th>\n",
       "      <th>tags</th>\n",
       "    </tr>\n",
       "  </thead>\n",
       "  <tbody>\n",
       "    <tr>\n",
       "      <th>0</th>\n",
       "      <td>Summer Story</td>\n",
       "      <td>it was such a hot summer the sky was deep blue...</td>\n",
       "    </tr>\n",
       "    <tr>\n",
       "      <th>1</th>\n",
       "      <td>The Lake of Darkness</td>\n",
       "      <td>martin urban is a quiet bachelor with a comfor...</td>\n",
       "    </tr>\n",
       "    <tr>\n",
       "      <th>2</th>\n",
       "      <td>Beyond the Blue Event Horizon</td>\n",
       "      <td>in book two of the heeche saga robinett broadh...</td>\n",
       "    </tr>\n",
       "    <tr>\n",
       "      <th>3</th>\n",
       "      <td>St. Peter's Fair</td>\n",
       "      <td>a paus in the civil war offer shrewsburi towns...</td>\n",
       "    </tr>\n",
       "    <tr>\n",
       "      <th>4</th>\n",
       "      <td>Twice Shy</td>\n",
       "      <td>a computer horsebet system fall into jonathan ...</td>\n",
       "    </tr>\n",
       "  </tbody>\n",
       "</table>\n",
       "</div>"
      ],
      "text/plain": [
       "                            title  \\\n",
       "0                   Summer Story    \n",
       "1            The Lake of Darkness   \n",
       "2  Beyond the Blue Event Horizon    \n",
       "3               St. Peter's Fair    \n",
       "4                       Twice Shy   \n",
       "\n",
       "                                                tags  \n",
       "0  it was such a hot summer the sky was deep blue...  \n",
       "1  martin urban is a quiet bachelor with a comfor...  \n",
       "2  in book two of the heeche saga robinett broadh...  \n",
       "3  a paus in the civil war offer shrewsburi towns...  \n",
       "4  a computer horsebet system fall into jonathan ...  "
      ]
     },
     "execution_count": 75,
     "metadata": {},
     "output_type": "execute_result"
    }
   ],
   "source": [
    "books.head()"
   ]
  },
  {
   "cell_type": "code",
   "execution_count": 76,
   "metadata": {},
   "outputs": [],
   "source": [
    "def stripWord(word):\n",
    "    return word.strip()"
   ]
  },
  {
   "cell_type": "code",
   "execution_count": 77,
   "metadata": {},
   "outputs": [
    {
     "name": "stderr",
     "output_type": "stream",
     "text": [
      "C:\\Users\\Devve\\AppData\\Local\\Temp\\ipykernel_13660\\2750095135.py:1: SettingWithCopyWarning: \n",
      "A value is trying to be set on a copy of a slice from a DataFrame.\n",
      "Try using .loc[row_indexer,col_indexer] = value instead\n",
      "\n",
      "See the caveats in the documentation: https://pandas.pydata.org/pandas-docs/stable/user_guide/indexing.html#returning-a-view-versus-a-copy\n",
      "  books['title'] = books['title'].apply(stripWord)\n"
     ]
    },
    {
     "data": {
      "text/plain": [
       "'Summer Story'"
      ]
     },
     "execution_count": 77,
     "metadata": {},
     "output_type": "execute_result"
    }
   ],
   "source": [
    "books['title'] = books['title'].apply(stripWord)\n",
    "books['title'][0]"
   ]
  },
  {
   "cell_type": "code",
   "execution_count": 78,
   "metadata": {},
   "outputs": [],
   "source": [
    "def recommend(bookName):\n",
    "    index = books.index[books['title'] == bookName][0]\n",
    "    book_indices = []\n",
    "    for i,sim in sorted(enumerate(similarities[index]),reverse=True,key=lambda x:x[1])[1:6]:\n",
    "        book_indices.append(i)\n",
    "    book_list = []\n",
    "    for i in book_indices:\n",
    "        book_list.append(books['title'][i])\n",
    "    return book_list"
   ]
  },
  {
   "cell_type": "code",
   "execution_count": 79,
   "metadata": {},
   "outputs": [
    {
     "data": {
      "text/plain": [
       "['The Secret Staircase',\n",
       " 'Angelina Ballerina',\n",
       " 'Lord Brocktree',\n",
       " 'The Kissing Hand',\n",
       " 'A Crown of Swords']"
      ]
     },
     "execution_count": 79,
     "metadata": {},
     "output_type": "execute_result"
    }
   ],
   "source": [
    "recommend(\"Summer Story\")"
   ]
  },
  {
   "cell_type": "code",
   "execution_count": 81,
   "metadata": {},
   "outputs": [],
   "source": [
    "books_dict = books.to_dict()"
   ]
  },
  {
   "cell_type": "code",
   "execution_count": 82,
   "metadata": {},
   "outputs": [],
   "source": [
    "import pickle\n",
    "\n",
    "with open(\"books.pkl\",\"wb\") as file:\n",
    "    pickle.dump(books_dict,file)\n",
    "\n",
    "with open(\"sm.pkl\",\"wb\") as file:\n",
    "    pickle.dump(similarities,file)"
   ]
  },
  {
   "cell_type": "code",
   "execution_count": null,
   "metadata": {},
   "outputs": [],
   "source": []
  }
 ],
 "metadata": {
  "kernelspec": {
   "display_name": "Machine Learning",
   "language": "python",
   "name": "python3"
  },
  "language_info": {
   "codemirror_mode": {
    "name": "ipython",
    "version": 3
   },
   "file_extension": ".py",
   "mimetype": "text/x-python",
   "name": "python",
   "nbconvert_exporter": "python",
   "pygments_lexer": "ipython3",
   "version": "3.12.5"
  }
 },
 "nbformat": 4,
 "nbformat_minor": 2
}
